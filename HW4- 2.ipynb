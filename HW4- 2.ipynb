{
 "cells": [
  {
   "cell_type": "code",
   "execution_count": 16,
   "id": "34f76d5f",
   "metadata": {},
   "outputs": [],
   "source": [
    "import pandas as pd\n",
    "import numpy as np\n",
    "import warnings\n",
    "from sklearn.model_selection import train_test_split\n",
    "from sklearn.metrics import classification_report, accuracy_score\n",
    "import torch\n",
    "import torch.nn as nn\n",
    "import torch.optim as optim\n",
    "from torch.utils.data import Dataset, DataLoader\n",
    "import torch.utils.data as data_utils\n",
    "import torch.nn.utils.rnn as rnn_utils\n",
    "import time\n",
    "import math\n",
    "\n",
    "from collections import defaultdict\n"
   ]
  },
  {
   "cell_type": "code",
   "execution_count": 3,
   "id": "371dd33e",
   "metadata": {},
   "outputs": [],
   "source": [
    "word2idx = {'<PAD>': 0, '<UNK>': 1}\n",
    "tag2idx = {'<PAD>': 0}\n",
    "\n",
    "def read_data(file_path):\n",
    "    \"\"\"\n",
    "    Reads the data from the file and returns the sentences, words and tags in separate lists.\n",
    "    \"\"\"\n",
    "    with open(file_path, \"r\") as f:\n",
    "        data = f.read().strip().split(\"\\n\\n\")\n",
    "    sentences = []\n",
    "    words = []\n",
    "    tags = []\n",
    "    for sentence in data:\n",
    "        sentence_words = []\n",
    "        sentence_tags = []\n",
    "        for line in sentence.strip().split(\"\\n\"):\n",
    "            line = line.strip().split()\n",
    "            sentence_words.append(line[1])\n",
    "            sentence_tags.append(line[2])\n",
    "            # add words and tags to the dictionaries\n",
    "            if line[1] not in word2idx:\n",
    "                word2idx[line[1]] = len(word2idx)\n",
    "            if line[2] not in tag2idx:\n",
    "                tag2idx[line[2]] = len(tag2idx)\n",
    "        words.append(sentence_words)\n",
    "        tags.append(sentence_tags)\n",
    "        sentences.append(sentence_words)\n",
    "    return sentences, words, tags\n",
    "\n",
    "# read the train and dev data\n",
    "train_sentences, train_words, train_tags = read_data(\"data/train\")"
   ]
  },
  {
   "cell_type": "code",
   "execution_count": 9,
   "id": "2c435fbd",
   "metadata": {},
   "outputs": [],
   "source": [
    "sentences_idx = [[word2idx[word] for word in sentence] for sentence in train_sentences]\n",
    "tags_idx = [[tag2idx[tag] for tag in tag_seq] for tag_seq in train_tags]"
   ]
  },
  {
   "cell_type": "code",
   "execution_count": 12,
   "id": "be2bf98a",
   "metadata": {},
   "outputs": [],
   "source": [
    "padded_sentences = rnn_utils.pad_sequence([torch.tensor(seq) for seq in sentences_idx], batch_first=True, padding_value=word2idx[\"<PAD>\"])\n",
    "padded_tags = rnn_utils.pad_sequence([torch.tensor(seq) for seq in tags_idx], batch_first=True, padding_value=tag2idx[\"<PAD>\"])"
   ]
  },
  {
   "cell_type": "code",
   "execution_count": 17,
   "id": "9b5b36db",
   "metadata": {},
   "outputs": [],
   "source": [
    "dataset = data_utils.TensorDataset(padded_sentences, padded_tags)\n",
    "dataloader = data_utils.DataLoader(dataset, batch_size=20, shuffle=True)"
   ]
  },
  {
   "cell_type": "code",
   "execution_count": 9,
   "id": "a69089be",
   "metadata": {},
   "outputs": [],
   "source": [
    "# train_data = []\n",
    "# for i in range(len(train_tags)):\n",
    "#     train_data.append((train_words[i],train_tags[i] ))"
   ]
  },
  {
   "cell_type": "code",
   "execution_count": 18,
   "id": "5c837a3b",
   "metadata": {},
   "outputs": [],
   "source": [
    "# class NERDataset(Dataset):\n",
    "#     def __init__(self, data, word2idx, tag2idx):\n",
    "#         self.data = data\n",
    "#         self.word2idx = word2idx\n",
    "#         self.tag2idx = tag2idx\n",
    "\n",
    "#     def __len__(self):\n",
    "#         return len(self.data)\n",
    "\n",
    "#     def __getitem__(self, idx):\n",
    "#         sentence, tags = self.data[idx]\n",
    "#         sentence_tensor = torch.tensor([self.word2idx[word] for word in sentence])\n",
    "#         tags_tensor = torch.tensor([self.tag2idx[tag] for tag in tags])\n",
    "#         return sentence_tensor, tags_tensor\n",
    "\n",
    "# train_dataset = NERDataset(train_data, word2idx, tag2idx)\n",
    "# train_loader = DataLoader(train_dataset, batch_size=1, shuffle=True)"
   ]
  },
  {
   "cell_type": "code",
   "execution_count": 19,
   "id": "45fb8dec",
   "metadata": {},
   "outputs": [],
   "source": [
    "# Define hyperparameters\n",
    "embedding_dim = 100\n",
    "num_lstm_layers = 1\n",
    "lstm_hidden_dim = 256\n",
    "lstm_dropout = 0.33\n",
    "linear_output_dim = 128\n",
    "num_epochs = 10\n",
    "learning_rate = 0.01\n",
    "\n",
    "# Define the BLSTM model\n",
    "class BLSTM(nn.Module):\n",
    "    def __init__(self, embedding_dim, num_lstm_layers, lstm_hidden_dim, lstm_dropout, linear_output_dim):\n",
    "        super(BLSTM, self).__init__()\n",
    "        self.embedding_dim = embedding_dim\n",
    "        self.num_lstm_layers = num_lstm_layers\n",
    "        self.lstm_hidden_dim = lstm_hidden_dim\n",
    "        self.lstm_dropout = lstm_dropout\n",
    "        self.linear_output_dim = linear_output_dim\n",
    "        \n",
    "        # Define the layers of the model\n",
    "        self.embedding = nn.Embedding(num_embeddings=len(word2idx), embedding_dim=self.embedding_dim)\n",
    "        self.lstm = nn.LSTM(input_size=self.embedding_dim, hidden_size=self.lstm_hidden_dim, num_layers=self.num_lstm_layers, batch_first=True, dropout=self.lstm_dropout, bidirectional=True)\n",
    "        self.linear = nn.Linear(in_features=self.lstm_hidden_dim*2, out_features=self.linear_output_dim)\n",
    "        self.activation = nn.ELU()\n",
    "        self.classifier = nn.Linear(in_features=self.linear_output_dim, out_features=len(tag2idx))\n",
    "    \n",
    "    def forward(self, sentence):\n",
    "        embedded = self.embedding(sentence)\n",
    "        lstm_output, _ = self.lstm(embedded)\n",
    "        linear_output = self.activation(self.linear(lstm_output))\n",
    "        logits = self.classifier(linear_output)\n",
    "        return logits"
   ]
  },
  {
   "cell_type": "code",
   "execution_count": 23,
   "id": "df5fc022",
   "metadata": {},
   "outputs": [
    {
     "name": "stdout",
     "output_type": "stream",
     "text": [
      "Epoch 1/2, Step 1/750, Loss: 2.4585 \n",
      "Epoch 1/2, Accuracy: 0.9196\n",
      "total_samples =  1693531\n",
      "Epoch 2/2, Step 1/750, Loss: 0.2206 \n",
      "Epoch 2/2, Accuracy: 0.9779\n",
      "total_samples =  1693531\n"
     ]
    }
   ],
   "source": [
    "# Initialize the BLSTM model and define the loss function and optimizer\n",
    "model = BLSTM(embedding_dim, num_lstm_layers, lstm_hidden_dim, lstm_dropout, linear_output_dim)\n",
    "criterion = nn.CrossEntropyLoss()\n",
    "optimizer = optim.SGD(model.parameters(), lr=learning_rate)\n",
    "print_every = 1000\n",
    "\n",
    "# Train the BLSTM model\n",
    "for epoch in range(2):\n",
    "    total_loss = 0\n",
    "    total_correct=0\n",
    "    total_samples=0\n",
    "    for i, (sentence, tags_tensor) in enumerate(dataloader):\n",
    "        # Convert data to PyTorch tensors\n",
    "        optimizer.zero_grad()\n",
    "        logits = model(sentence)\n",
    "        loss = criterion(logits.view(-1, len(tag2idx)), tags_tensor.unsqueeze(0).view(-1))\n",
    "        _, predictions = torch.max(logits, 2)\n",
    "        total_correct += (predictions == tags_tensor).sum().item()       \n",
    "        loss.backward()\n",
    "        optimizer.step()\n",
    "        total_loss += loss.item()\n",
    "        total_samples += predictions.numel()\n",
    "        \n",
    "        if i % print_every == 0:\n",
    "            print(f\"Epoch {epoch+1}/{2}, Step {i+1}/{len(dataloader)}, Loss: {loss.item():.4f} \")\n",
    "    \n",
    "    accuracy = total_correct / total_samples\n",
    "    print(f\"Epoch {epoch+1}/{2}, Accuracy: {accuracy:.4f}\")\n",
    "    print()"
   ]
  },
  {
   "cell_type": "code",
   "execution_count": 42,
   "id": "64ae4500",
   "metadata": {},
   "outputs": [
    {
     "data": {
      "text/plain": [
       "tensor(7)"
      ]
     },
     "execution_count": 42,
     "metadata": {},
     "output_type": "execute_result"
    }
   ],
   "source": [
    "import torch\n",
    "tensor1 = torch.tensor([2, 2, 2, 1, 2, 1, 1, 2, 2, 2])\n",
    "tensor2 = torch.tensor([[2, 2, 2, 2, 2, 2, 2, 2, 2, 2]])\n",
    "t=tensor2.squeeze(0)\n",
    "torch.sum(t == tensor1)"
   ]
  },
  {
   "cell_type": "code",
   "execution_count": 47,
   "id": "9c5c020b",
   "metadata": {},
   "outputs": [],
   "source": [
    "tensor1 = torch.tensor([[6, 6, 2, 2, 2, 5, 5, 2]])\n",
    "tensor2 = torch.tensor([[3, 8, 2, 2, 2, 2, 2, 2]])\n",
    "\n",
    "matching = (tensor1 == tensor2).sum().item()"
   ]
  },
  {
   "cell_type": "code",
   "execution_count": 22,
   "id": "18bba7f5",
   "metadata": {},
   "outputs": [
    {
     "data": {
      "text/plain": [
       "750"
      ]
     },
     "execution_count": 22,
     "metadata": {},
     "output_type": "execute_result"
    }
   ],
   "source": [
    "len(dataloader)"
   ]
  },
  {
   "cell_type": "code",
   "execution_count": 24,
   "id": "6e5bf8cf",
   "metadata": {},
   "outputs": [
    {
     "data": {
      "text/plain": [
       "14987"
      ]
     },
     "execution_count": 24,
     "metadata": {},
     "output_type": "execute_result"
    }
   ],
   "source": [
    "len(padded_sentences)"
   ]
  },
  {
   "cell_type": "code",
   "execution_count": null,
   "id": "1993682e",
   "metadata": {},
   "outputs": [],
   "source": []
  }
 ],
 "metadata": {
  "kernelspec": {
   "display_name": "Python 3 (ipykernel)",
   "language": "python",
   "name": "python3"
  },
  "language_info": {
   "codemirror_mode": {
    "name": "ipython",
    "version": 3
   },
   "file_extension": ".py",
   "mimetype": "text/x-python",
   "name": "python",
   "nbconvert_exporter": "python",
   "pygments_lexer": "ipython3",
   "version": "3.10.0"
  }
 },
 "nbformat": 4,
 "nbformat_minor": 5
}
